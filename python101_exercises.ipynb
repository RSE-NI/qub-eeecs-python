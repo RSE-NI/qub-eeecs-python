{
 "cells": [
  {
   "cell_type": "markdown",
   "id": "6cd53919-8e5f-4cfa-a825-8e54128827ae",
   "metadata": {},
   "source": [
    "# Exercise 1\n",
    "\n",
    "Fill the table showing the values of the variables in this program after each statement is executed."
   ]
  },
  {
   "cell_type": "raw",
   "id": "43490644-40d2-4ed8-89ba-42caba452f9a",
   "metadata": {
    "tags": []
   },
   "source": [
    " Command   Value of x   Value of y   Value of swap \n",
    "x = 1.0    #              #              #          \n",
    "y = 3.0    #              #              #               \n",
    "swap = x   #              #              #               \n",
    "x = y      #              #              #               \n",
    "y = swap   #              #              #               "
   ]
  },
  {
   "cell_type": "code",
   "execution_count": 2,
   "id": "609a403a-6c4d-49d0-b8db-38abadaf77d9",
   "metadata": {},
   "outputs": [],
   "source": []
  },
  {
   "cell_type": "markdown",
   "id": "a22bf698-f0fa-4ac3-8cf0-6f0adf2019ce",
   "metadata": {},
   "source": [
    "Solution"
   ]
  },
  {
   "cell_type": "raw",
   "id": "c5a19a7b-0a63-4646-b0ee-a74779df2cd9",
   "metadata": {
    "jp-MarkdownHeadingCollapsed": true,
    "jupyter": {
     "source_hidden": true
    },
    "tags": []
   },
   "source": [
    "\n",
    "# Command  # Value of x   # Value of y   # Value of swap #\n",
    "x = 1.0    # 1.0          # not defined  # not defined   #\n",
    "y = 3.0    # 1.0          # 3.0          # not defined   #\n",
    "swap = x   # 1.0          # 3.0          # 1.0           #\n",
    "x = y      # 3.0          # 3.0          # 1.0           #\n",
    "y = swap   # 3.0          # 1.0          # 1.0           #\n",
    "\n",
    "These three lines exchange the values in x and y using the swap variable for temporary storage. This is a fairly common programming idiom."
   ]
  },
  {
   "cell_type": "markdown",
   "id": "bbff72cc-6c0d-40ce-a12b-1c407af6a2e8",
   "metadata": {},
   "source": [
    "# Exercise 2\n",
    "\n",
    "What is the final value of position in the program below? (Try to predict the value without running the program, then check your prediction.)\n",
    "\n",
    "`initial = 'left'` <br>\n",
    "`position = initial` <br>\n",
    "`initial = 'right'`   "
   ]
  },
  {
   "cell_type": "code",
   "execution_count": null,
   "id": "50b14c5c-1e51-4998-9e19-6fe80554de9d",
   "metadata": {},
   "outputs": [],
   "source": []
  },
  {
   "cell_type": "markdown",
   "id": "db4689e4-0804-4f0d-a3af-8e162291e6d0",
   "metadata": {},
   "source": [
    "Solution:"
   ]
  },
  {
   "cell_type": "markdown",
   "id": "4c510a20-c1ea-4188-a603-18600c3b5ead",
   "metadata": {
    "jupyter": {
     "source_hidden": true
    },
    "tags": []
   },
   "source": [
    "`left`\n",
    "\n",
    "The initial variable is assigned the value 'left'. In the second line, the position variable also receives the string value 'left'. In third line, the initial variable is given the value 'right', but the position variable retains its string value of 'left'."
   ]
  },
  {
   "cell_type": "markdown",
   "id": "70db4cf3-980d-472e-86b2-80264a82c0df",
   "metadata": {
    "tags": []
   },
   "source": [
    "# Exercise 3\n",
    "\n",
    "If you assign `a = 123`, what happens if you try to get the second digit of `a` via `a[1]`?"
   ]
  },
  {
   "cell_type": "code",
   "execution_count": null,
   "id": "00c0a3ec-cfc7-4f55-9c7d-3af8d9e069fe",
   "metadata": {},
   "outputs": [],
   "source": []
  },
  {
   "cell_type": "markdown",
   "id": "64a44e4a-ecfc-4772-86dd-cdebd33fb98c",
   "metadata": {},
   "source": [
    "Solution:"
   ]
  },
  {
   "cell_type": "markdown",
   "id": "b34a3d95-9cfd-4fab-9a69-d880dd184f76",
   "metadata": {
    "jupyter": {
     "source_hidden": true
    },
    "tags": []
   },
   "source": [
    "TypeError: 'int' object is not subscriptable\n",
    "\n",
    "Numbers are not strings or sequences and Python will raise an error if you try to perform an index operation on a number. In the next lesson on types and type conversion we will learn more about types and how to convert between different types. If you want the Nth digit of a number you can convert it into a string using the str built-in function and then perform an index operation on that string."
   ]
  },
  {
   "cell_type": "markdown",
   "id": "c887df49-e562-4d28-8ae4-2bbead4e48c8",
   "metadata": {
    "tags": []
   },
   "source": [
    "# Exercise 4\n",
    "\n",
    "Which is a better variable name, m, min, or minutes? Why? Hint: think about which code you would rather inherit from someone who is leaving the lab:\n",
    "\n",
    "    ts = m * 60 + s\n",
    "    tot_sec = min * 60 + sec\n",
    "    total_seconds = minutes * 60 + seconds\n"
   ]
  },
  {
   "cell_type": "markdown",
   "id": "dac58271-1b9d-46c5-998b-ea0c236d59bf",
   "metadata": {},
   "source": [
    "Solution:"
   ]
  },
  {
   "cell_type": "markdown",
   "id": "41506c79-4304-4070-a5b7-76b67369f86f",
   "metadata": {
    "jupyter": {
     "source_hidden": true
    },
    "tags": []
   },
   "source": [
    "minutes is better because min might mean something like “minimum” (and actually is an existing built-in function in Python that we will cover later)."
   ]
  },
  {
   "cell_type": "markdown",
   "id": "322fd0a8-a7ca-4ba8-a10d-1039087692b5",
   "metadata": {},
   "source": [
    "# Exercise 5\n",
    "Given the following string:\n",
    "\n",
    "`species_name = \"Acacia buxifolia\"`\n",
    "\n",
    "What would these expressions return?\n",
    "\n",
    "1. `species_name[2:8]`  \n",
    "1. `species_name[11:]` (without a value after the colon)\n",
    "1. `species_name[:4]` (without a value before the colon)\n",
    "1. `species_name[:]` (just a colon)  \n",
    "1. `species_name[11:-3]`  \n",
    "1. `species_name[-5:-3]`  \n",
    "1. What happens when you choose a stop value which is out of range? (i.e., try `species_name[0:20]` or `species_name[:103]` )\n"
   ]
  },
  {
   "cell_type": "code",
   "execution_count": null,
   "id": "906df9ce-4562-4a16-9e1e-e8bc26c59fb3",
   "metadata": {},
   "outputs": [],
   "source": []
  },
  {
   "cell_type": "markdown",
   "id": "23a1ed6c-4121-491c-950d-cee6879aeced",
   "metadata": {},
   "source": [
    "Solution:"
   ]
  },
  {
   "cell_type": "markdown",
   "id": "4332ea21-bb0d-4f9b-8032-0a89df5ce1b4",
   "metadata": {
    "jupyter": {
     "source_hidden": true
    },
    "tags": []
   },
   "source": [
    "\n",
    "1. species_name[2:8] returns the substring 'acia b'\n",
    "1. species_name[11:] returns the substring 'folia', from position 11 until the end\n",
    "1. species_name[:4] returns the substring 'Acac', from the start up to but not including position 4\n",
    "1. species_name[:] returns the entire string 'Acacia buxifolia'\n",
    "1. species_name[11:-3] returns the substring 'fo', from the 11th position to the third last position\n",
    "1. species_name[-5:-3] also returns the substring 'fo', from the fifth last position to the third last\n",
    "1. If a part of the slice is out of range, the operation does not fail. species_name[0:20] gives the same result as species_name[0:], and species_name[:103] gives the same result as species_name[:]\n"
   ]
  }
 ],
 "metadata": {
  "kernelspec": {
   "display_name": "Python 3 (ipykernel)",
   "language": "python",
   "name": "python3"
  },
  "language_info": {
   "codemirror_mode": {
    "name": "ipython",
    "version": 3
   },
   "file_extension": ".py",
   "mimetype": "text/x-python",
   "name": "python",
   "nbconvert_exporter": "python",
   "pygments_lexer": "ipython3",
   "version": "3.10.6"
  }
 },
 "nbformat": 4,
 "nbformat_minor": 5
}
