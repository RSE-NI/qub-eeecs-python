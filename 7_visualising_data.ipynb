{
 "cells": [
  {
   "cell_type": "markdown",
   "id": "3df79627-f8d1-4680-a535-f96fb87881de",
   "metadata": {},
   "source": [
    "Basic Plotting\n",
    "=================\n",
    "\n",
    "First import the matplotlib library as plt (_remember the code cells below won't run unless you do this_)\n"
   ]
  },
  {
   "cell_type": "code",
   "execution_count": null,
   "id": "e0335ecf-3864-4439-a7e0-2979be02c919",
   "metadata": {},
   "outputs": [],
   "source": [
    "import matplotlib.pyplot as plt"
   ]
  },
  {
   "cell_type": "markdown",
   "id": "ad4f306f-3d9f-4f88-8a69-840baed7b6e0",
   "metadata": {},
   "source": [
    "The plotting method plt.plot() takes x and y points as arguments, which can be manually defined or sourced from input data.  Below we will manually define them as a sequence from 1-6."
   ]
  },
  {
   "cell_type": "code",
   "execution_count": null,
   "id": "aca4c590-1ac7-429c-9959-42e6a8cf28fb",
   "metadata": {},
   "outputs": [],
   "source": [
    "x_points = [1,2,3,4,5,6]\n",
    "y_points = [1,2,3,4,5,6]\n",
    "plt.plot(x_points,y_points)"
   ]
  },
  {
   "cell_type": "markdown",
   "id": "4eb37e2c-3974-4c08-98a2-a73ef95002cf",
   "metadata": {},
   "source": [
    "Try playing with the data to see how both the x-axis and y-axis are automatically handled by pyplot."
   ]
  },
  {
   "cell_type": "code",
   "execution_count": null,
   "id": "3bab31d1-90c7-4706-b54c-1df89cf536b2",
   "metadata": {},
   "outputs": [],
   "source": []
  },
  {
   "cell_type": "markdown",
   "id": "b5169557-82f9-4e37-b0e6-082e57897b4b",
   "metadata": {},
   "source": [
    "plt.plot() can also take a third argument, describing how the data will be plotted.  For example, passing o (shorthand for a circle) means only the markers are plotted, not the line."
   ]
  },
  {
   "cell_type": "code",
   "execution_count": null,
   "id": "f1fbd008-e23e-4dd2-a838-02e5ea1ca7e3",
   "metadata": {},
   "outputs": [],
   "source": [
    "x_points = [1,2,3,4,5,6]\n",
    "y_points = [1,2,3,4,5,6]\n",
    "plt.plot(x_points,y_points, 'o')"
   ]
  },
  {
   "cell_type": "markdown",
   "id": "23f45144-6f7b-4f7e-bc5e-4b36378408f1",
   "metadata": {},
   "source": [
    "You can combine the line with the markers by using the keyword argument marker='o'."
   ]
  },
  {
   "cell_type": "code",
   "execution_count": null,
   "id": "f626e725-c3fe-4f54-9ce1-d0a95252456c",
   "metadata": {},
   "outputs": [],
   "source": [
    "x_points = [1,2,3,4,5,6]\n",
    "y_points = [1,2,3,4,5,6]\n",
    "plt.plot(x_points,y_points, marker='o')"
   ]
  },
  {
   "cell_type": "markdown",
   "id": "31333efe-d4fd-4ca5-806d-d06f5af1d556",
   "metadata": {},
   "source": [
    "Other markers include:\n",
    "\n",
    "'o' \tCircle \t\n",
    "'*' \tStar \t\n",
    "'.' \tPoint \t\n",
    "',' \tPixel \t\n",
    "'x' \tX \t\n",
    "'X' \tX (filled) \t\n",
    "'+' \tPlus \t\n",
    "'P' \tPlus (filled) \t\n",
    "'s' \tSquare \t\n",
    "'D' \tDiamond \t\n",
    "'d' \tDiamond (thin) \t\n",
    "'p' \tPentagon \t\n",
    "'H' \tHexagon \t\n",
    "'h' \tHexagon \t\n",
    "'v' \tTriangle Down \t\n",
    "'^' \tTriangle Up \t\n",
    "'<' \tTriangle Left \t\n",
    "'>' \tTriangle Right \t\n",
    "'1' \tTri Down \t\n",
    "'2' \tTri Up \t\n",
    "'3' \tTri Left \t\n",
    "'4' \tTri Right \t\n",
    "'|' \tVline \t\n",
    "'_' \tHline"
   ]
  },
  {
   "cell_type": "markdown",
   "id": "51d72f63-fb56-463c-af67-e03fbe2b684b",
   "metadata": {},
   "source": [
    "Try playing with the data and markers to see how easily they can be changed."
   ]
  },
  {
   "cell_type": "code",
   "execution_count": null,
   "id": "e6fe1792-150e-4f93-a77a-1cbc9ea02ee4",
   "metadata": {},
   "outputs": [],
   "source": []
  },
  {
   "cell_type": "markdown",
   "id": "a0db2050-057e-4cef-9c2a-f7e7683037ae",
   "metadata": {},
   "source": [
    "The shortcut string notation parameter  (fmt) can also specify the colour, line and marker in the following order: \n",
    "\n",
    "**marker|line|color**"
   ]
  },
  {
   "cell_type": "code",
   "execution_count": null,
   "id": "a2aed962-dd64-47b3-8068-a1fa1d55799f",
   "metadata": {},
   "outputs": [],
   "source": [
    "x_points = [1,2,3,4,5,6]\n",
    "y_points = [1,2,3,4,5,6]\n",
    "plt.plot(x_points,y_points, 'o:r')"
   ]
  },
  {
   "cell_type": "markdown",
   "id": "16055da8-a7ab-4569-8271-1718f617cefe",
   "metadata": {},
   "source": [
    "Where the lines are referenced as:\n",
    "\n",
    "'-' \tSolid line \t\n",
    "':' \tDotted line \t\n",
    "'--' \tDashed line \t\n",
    "'-.' \tDashed/dotted line\n",
    "\n",
    "And the colours are:\n",
    "\n",
    "'r' \tRed \t\n",
    "'g' \tGreen \t\n",
    "'b' \tBlue \t\n",
    "'c' \tCyan \t\n",
    "'m' \tMagenta \t\n",
    "'y' \tYellow \t\n",
    "'k' \tBlack \t\n",
    "'w' \tWhite  \n",
    "Note there are 140 named colours, also available by hexcode (https://www.w3schools.com/colors/colors_hex.asp)\n",
    "\n",
    "Try redoing the code above with different line/marker/colour choices."
   ]
  },
  {
   "cell_type": "code",
   "execution_count": null,
   "id": "316dfcde-e632-4336-9cc1-f9c36272b61f",
   "metadata": {},
   "outputs": [],
   "source": []
  },
  {
   "cell_type": "markdown",
   "id": "2a01e217-fc38-43ed-abba-a48371b75b3c",
   "metadata": {},
   "source": [
    "Other keyword arguments include markersize (or ms), markeredgecolor (mec), markerfacecolor (mfc), linestyle (ls), linewidth (lw). Play around with this to produce some suitable visualisations."
   ]
  },
  {
   "cell_type": "code",
   "execution_count": null,
   "id": "3d2720b9-3887-4985-909a-6af8730e6b85",
   "metadata": {},
   "outputs": [],
   "source": []
  },
  {
   "cell_type": "markdown",
   "id": "8353c2e9-a393-49a5-a19d-b2d43766df13",
   "metadata": {
    "tags": []
   },
   "source": [
    "# Multiple data visualisations\n"
   ]
  },
  {
   "cell_type": "markdown",
   "id": "3012b9f3-89ac-4783-a4fe-4e4fcbfb5384",
   "metadata": {},
   "source": [
    "Add another series of data easily with pyplot (remember it is stateful, so remembers which plot you're working on)."
   ]
  },
  {
   "cell_type": "code",
   "execution_count": null,
   "id": "8bfbac23-f18b-4ba6-85e6-2f2c51cc8082",
   "metadata": {},
   "outputs": [],
   "source": [
    "# series 1\n",
    "x1_points = [1,2,3,4,5,6]\n",
    "y1_points = [1,2,3,4,5,6]\n",
    "\n",
    "# series 2\n",
    "x2_points = [1,2,3,4,5,6]\n",
    "y2_points = [6,5,4,3,2,1]\n",
    "\n",
    "# plot each\n",
    "plt.plot(x1_points,y1_points)\n",
    "plt.plot(x2_points,y2_points)\n"
   ]
  },
  {
   "cell_type": "markdown",
   "id": "4034cd98-c73e-4451-9494-19fa8ab65f52",
   "metadata": {},
   "source": [
    "Pyplot will take care of the formatting in a default style, or you can edit the style in your own way using the information above.  Have a go!"
   ]
  },
  {
   "cell_type": "code",
   "execution_count": null,
   "id": "bd15ebfe-70b5-44c2-8941-bbd2a87958c9",
   "metadata": {},
   "outputs": [],
   "source": [
    "# An example to get you started\n",
    "# series 1\n",
    "x1_points = [1,2,3,4,5,6]\n",
    "y1_points = [1,2,3,4,5,6]\n",
    "\n",
    "# series 2\n",
    "x2_points = [1,2,3,4,5,6]\n",
    "y2_points = [6,5,4,3,2,1]\n",
    "\n",
    "# plot each\n",
    "plt.plot(x1_points,y1_points, 'r:o')\n",
    "plt.plot(x2_points,y2_points, 'b:x')"
   ]
  },
  {
   "cell_type": "markdown",
   "id": "5f9abefd-0a8b-4f00-8add-10d570617769",
   "metadata": {},
   "source": [
    "# Artists  \n",
    "Remember 'Artists' are the individual bits that make up the detail of a graph.  These can be added to the Figure/Axes using simple plt.xxx() calls.  \n",
    "## Titles  \n",
    "plt.title(\"Plot title\")  \n",
    "plt.xlabel(\"Title of the x axis\")  \n",
    "plt.ylabel(\"Title of the y axis\")  \n",
    "  \n",
    "The following arguments are available for matplotlib.pyplot.title(label, fontdict=None, loc=None, pad=None, *, y=None, \\**kwargs)\n",
    "Where:  \n",
    "**labelstr** = Text to use for the title  \n",
    "**fontdict** = A dictionary controlling the appearance of the title text, e.g. \n",
    "\n",
    "font = {'family':'serif','color':'red','size':18}  \n",
    "plt.title(\"The title\", fontdict = font)  \n",
    "\n",
    "**loc** = Location of the title. Values are 'center', 'left', 'right'. (default: 'center')  \n",
    "**pad** = The offset of the title from the top of the Axes, in points.  \n"
   ]
  },
  {
   "cell_type": "code",
   "execution_count": null,
   "id": "8afcab36-ca22-46aa-abc0-9c83c24db50c",
   "metadata": {},
   "outputs": [],
   "source": [
    "# An example to get you started\n",
    "# series 1\n",
    "x1_points = [1,2,3,4,5,6]\n",
    "y1_points = [1,2,3,4,5,6]\n",
    "\n",
    "# series 2\n",
    "x2_points = [1,2,3,4,5,6]\n",
    "y2_points = [6,5,4,3,2,1]\n",
    "\n",
    "# plot each\n",
    "plt.plot(x1_points,y1_points, 'r:o')\n",
    "plt.plot(x2_points,y2_points, 'b:x')\n",
    "\n",
    "#titles\n",
    "title_font = {'family':'serif','color':'black','size':22}\n",
    "x_font = {'family':'sans','color':'blue','size':12}\n",
    "y_font = {'family':'sans','color':'red','size':12}\n",
    "plt.title(\"My first graph\", fontdict = title_font, loc='center', pad=30)\n",
    "plt.xlabel(\"The X-Axis\", fontdict = x_font)\n",
    "plt.ylabel(\"The Y-Axis\", fontdict = y_font)\n"
   ]
  },
  {
   "cell_type": "markdown",
   "id": "b98003c8-7e92-43ee-9cd6-fea39616c4d2",
   "metadata": {},
   "source": [
    "## Grid lines  \n",
    "Pyplot has the grid() function to add gridlines to the plot.  This can be modified with:  \n",
    "\n",
    "plt.grid(axis = 'x') : only vertical gridlines\n",
    "plt.grid(axis = 'y') : only horizontal gridlines  \n",
    "plt.grid(axis = 'both') : (default) both verical and horizontal  \n",
    "\n",
    "The colour, style and width of the gridlines can be modified with:  \n",
    "plt.grid(color = 'grey', linestyle = '--', linewidth = 0.2)  \n"
   ]
  },
  {
   "cell_type": "code",
   "execution_count": null,
   "id": "14e7d7ec-a32b-4a44-88b0-9856ab4f2464",
   "metadata": {},
   "outputs": [],
   "source": [
    "# An example to get you started\n",
    "# series 1\n",
    "x1_points = [1,2,3,4,5,6]\n",
    "y1_points = [1,2,3,4,5,6]\n",
    "\n",
    "# series 2\n",
    "x2_points = [1,2,3,4,5,6]\n",
    "y2_points = [6,5,4,3,2,1]\n",
    "\n",
    "# plot each\n",
    "plt.plot(x1_points,y1_points, 'r:o')\n",
    "plt.plot(x2_points,y2_points, 'b:x')\n",
    "\n",
    "#titles\n",
    "title_font = {'family':'serif','color':'black','size':22}\n",
    "x_font = {'family':'sans','color':'blue','size':12}\n",
    "y_font = {'family':'sans','color':'red','size':12}\n",
    "plt.title(\"My first graph\", fontdict = title_font, loc='center', pad=30)\n",
    "plt.xlabel(\"The X-Axis\", fontdict = x_font)\n",
    "plt.ylabel(\"The Y-Axis\", fontdict = y_font)\n",
    "plt.grid(axis = 'both', color = 'green', linestyle = '--', linewidth = 0.25)"
   ]
  },
  {
   "cell_type": "markdown",
   "id": "bedb1d82-58a3-458d-850b-8a2c70ec1a86",
   "metadata": {},
   "source": [
    "## Display multiple plots in one figure  \n",
    "The `plt.subplot()` command allows multiple plots within one figure 'canvas'.  \n",
    "It takes 3 arguments to lay out the plots within the figure area:  \n",
    "```python\n",
    "plt.subplot(rows, columns, which_plot_this_is)\n",
    "```"
   ]
  },
  {
   "cell_type": "code",
   "execution_count": null,
   "id": "c169d54d-6190-47ec-a5a7-5cfda1d6e8b6",
   "metadata": {},
   "outputs": [],
   "source": [
    "# An example to get you started\n",
    "\n",
    "# plot 1\n",
    "x1_points = [1,2,3,4,5,6]\n",
    "y1_points = [1,2,3,4,5,6]\n",
    "\n",
    "plt.subplot(1,2,1) #  one row, two columns and this is plot 1\n",
    "plt.plot(x1_points,y1_points, 'r:o')\n",
    "\n",
    "\n",
    "# plot 2\n",
    "x2_points = [1,2,3,4,5,6]\n",
    "y2_points = [6,5,4,3,2,1]\n",
    "plt.subplot(1,2,2) #  one row, two columns and this is plot 2\n",
    "plt.plot(x2_points,y2_points, 'b:x')\n",
    "\n",
    "#titles\n",
    "title_font = {'family':'serif','color':'black','size':22}\n",
    "x_font = {'family':'sans','color':'blue','size':12}\n",
    "y_font = {'family':'sans','color':'red','size':12}\n",
    "plt.title(\"My first graph\", fontdict = title_font, loc='center', pad=30)\n",
    "plt.xlabel(\"The X-Axis\", fontdict = x_font)\n",
    "plt.ylabel(\"The Y-Axis\", fontdict = y_font)\n",
    "plt.grid(axis = 'both', color = 'green', linestyle = '--', linewidth = 0.25)"
   ]
  },
  {
   "cell_type": "markdown",
   "id": "bdad9e2e-5f53-4e44-8688-5486f038d9d0",
   "metadata": {},
   "source": [
    "Note how the section from #titles in the code only applies to the second plot- remember pyplot is stateful and remembers which plot you're working on.  To edit this and apply these titles to each plot, add the title code to each plot.  A 'super title can then be added to the whole figure using ```plt.superplot()```. Try it below:"
   ]
  },
  {
   "cell_type": "code",
   "execution_count": null,
   "id": "eb007308-0ef3-4ad6-b1ae-d8ce4ddd850b",
   "metadata": {},
   "outputs": [],
   "source": []
  },
  {
   "cell_type": "markdown",
   "id": "29f0421d-2ec7-40d4-8bcf-5a1a5c137dde",
   "metadata": {
    "tags": []
   },
   "source": [
    "## Loading data and visualising it  \n",
    "\n",
    "We can load data using other methods, e.g. Pandas, and visualise it as above with few lines of code.  Note the dataframe itself (df) has the method .plot() called."
   ]
  },
  {
   "cell_type": "code",
   "execution_count": 1,
   "id": "7e75aed9-b7f5-4535-96ac-065683e543cb",
   "metadata": {},
   "outputs": [
    {
     "name": "stdout",
     "output_type": "stream",
     "text": [
      "      part_num                                               name  part_cat_id\n",
      "0       0687b1                        Set 0687 Activity Booklet 1           17\n",
      "1         0901  Baseplate 16 x 30 with Set 080 Yellow House Print            1\n",
      "2         0902  Baseplate 16 x 24 with Set 080 Small White Hou...            1\n",
      "3         0903     Baseplate 16 x 24 with Set 080 Red House Print            1\n",
      "4         0904  Baseplate 16 x 24 with Set 080 Large White Hou...            1\n",
      "...        ...                                                ...          ...\n",
      "25988   zbb013              Znap Connector 3 x 3 - 4 way B (Beam)           43\n",
      "25989   zbb014                     Znap Connector 1 x 3 - 2 way A           43\n",
      "25990   zbb015                                Znap Beam 3, 1 Hole           43\n",
      "25991   zbb018            Znap Connector 3 x 3 - 4 way C (Closed)           43\n",
      "25992   zbb022                  Wheel 68mm Znap Propeller (9 x 2)           29\n",
      "\n",
      "[25993 rows x 3 columns]\n"
     ]
    },
    {
     "name": "stderr",
     "output_type": "stream",
     "text": [
      "/tmp/ipykernel_170797/3304912808.py:12: MatplotlibDeprecationWarning: savefig() got unexpected keyword argument \"type\" which is no longer supported as of 3.3 and will become an error in 3.6\n",
      "  plt.savefig(\"fig1.pdf\", type=\"pdf\")\n"
     ]
    },
    {
     "data": {
      "image/png": "[encoded data removed]",
      "text/plain": [
       "<Figure size 432x288 with 1 Axes>"
      ]
     },
     "metadata": {
      "needs_background": "light"
     },
     "output_type": "display_data"
    }
   ],
   "source": [
    "import pandas as pd\n",
    "import matplotlib.pyplot as plt\n",
    "\n",
    "# Note the use of sep to state that the records are separated by \";\" rather than default \",\"\n",
    "df = pd.read_csv('data/lego_data/parts.csv')\n",
    "df.plot(kind = 'hist') # set type to histogram\n",
    "\n",
    "# set titles\n",
    "plt.title(\"Frequency of lego parts\")\n",
    "plt.xlabel(\"Part cat id.\")\n",
    "print(df)\n",
    "plt.savefig(\"fig1.pdf\") # parameter type='pdf' is now deprecated"
   ]
  },
  {
   "cell_type": "markdown",
   "id": "6c505753-8f47-4833-90af-3421b8c8bacb",
   "metadata": {},
   "source": [
    "# Other plot types  \n",
    "\n",
    "Pyplot has a rich library of plot types inbuilt, all using the same principles above.  Using the [Matplotlib cheatsheet](handouts/matplotlib/cheatsheets.pdf), [Matplotlib handout-beginner](handouts/matplotlib/handout-beginner.pdf),  [Matplotlib handout-intermediate](handouts/matplotlib/handout-intermediate.pdf),  [Matplotlib handout-tips](handouts/matplotlib/handout-tips.pdf) have a play about with different plot types below."
   ]
  },
  {
   "cell_type": "code",
   "execution_count": null,
   "id": "10c574db-c686-4631-8a77-44eda30ed82e",
   "metadata": {},
   "outputs": [],
   "source": []
  }
 ],
 "metadata": {
  "kernelspec": {
   "display_name": "Python 3 (ipykernel)",
   "language": "python",
   "name": "python3"
  },
  "language_info": {
   "codemirror_mode": {
    "name": "ipython",
    "version": 3
   },
   "file_extension": ".py",
   "mimetype": "text/x-python",
   "name": "python",
   "nbconvert_exporter": "python",
   "pygments_lexer": "ipython3",
   "version": "3.10.12"
  }
 },
 "nbformat": 4,
 "nbformat_minor": 5
}
