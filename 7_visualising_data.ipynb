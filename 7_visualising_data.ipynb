{
 "cells": [
  {
   "cell_type": "markdown",
   "id": "3df79627-f8d1-4680-a535-f96fb87881de",
   "metadata": {},
   "source": [
    "Basic Plotting\n",
    "=================\n",
    "\n",
    "First import the matplotlib library as plt (_remember the code cells below won't run unless you do this_)\n"
   ]
  },
  {
   "cell_type": "code",
   "execution_count": null,
   "id": "e0335ecf-3864-4439-a7e0-2979be02c919",
   "metadata": {},
   "outputs": [],
   "source": [
    "import matplotlib.pyplot as plt"
   ]
  },
  {
   "cell_type": "markdown",
   "id": "ad4f306f-3d9f-4f88-8a69-840baed7b6e0",
   "metadata": {},
   "source": [
    "The plotting method plt.plot() takes x and y points as arguments, which can be manually defined or sourced from input data.  Below we will manually define them as a sequence from 1-6."
   ]
  },
  {
   "cell_type": "code",
   "execution_count": null,
   "id": "aca4c590-1ac7-429c-9959-42e6a8cf28fb",
   "metadata": {},
   "outputs": [],
   "source": [
    "x_points = [1,2,3,4,5,6]\n",
    "y_points = [1,2,3,4,5,6]\n",
    "plt.plot(x_points,y_points)"
   ]
  },
  {
   "cell_type": "markdown",
   "id": "4eb37e2c-3974-4c08-98a2-a73ef95002cf",
   "metadata": {},
   "source": [
    "Try playing with the data to see how both the x-axis and y-axis are automatically handled by pyplot."
   ]
  },
  {
   "cell_type": "code",
   "execution_count": null,
   "id": "3bab31d1-90c7-4706-b54c-1df89cf536b2",
   "metadata": {},
   "outputs": [],
   "source": []
  },
  {
   "cell_type": "markdown",
   "id": "b5169557-82f9-4e37-b0e6-082e57897b4b",
   "metadata": {},
   "source": [
    "plt.plot() can also take a third argument, describing how the data will be plotted.  For example, passing o (shorthand for a circle) means only the markers are plotted, not the line."
   ]
  },
  {
   "cell_type": "code",
   "execution_count": null,
   "id": "f1fbd008-e23e-4dd2-a838-02e5ea1ca7e3",
   "metadata": {},
   "outputs": [],
   "source": [
    "x_points = [1,2,3,4,5,6]\n",
    "y_points = [1,2,3,4,5,6]\n",
    "plt.plot(x_points,y_points, 'o')"
   ]
  },
  {
   "cell_type": "markdown",
   "id": "23f45144-6f7b-4f7e-bc5e-4b36378408f1",
   "metadata": {},
   "source": [
    "You can combine the line with the markers by using the keyword argument marker='o'."
   ]
  },
  {
   "cell_type": "code",
   "execution_count": null,
   "id": "f626e725-c3fe-4f54-9ce1-d0a95252456c",
   "metadata": {},
   "outputs": [],
   "source": [
    "x_points = [1,2,3,4,5,6]\n",
    "y_points = [1,2,3,4,5,6]\n",
    "plt.plot(x_points,y_points, marker='o')"
   ]
  },
  {
   "cell_type": "markdown",
   "id": "31333efe-d4fd-4ca5-806d-d06f5af1d556",
   "metadata": {},
   "source": [
    "Other markers include:\n",
    "\n",
    "'o' \tCircle \t\n",
    "'*' \tStar \t\n",
    "'.' \tPoint \t\n",
    "',' \tPixel \t\n",
    "'x' \tX \t\n",
    "'X' \tX (filled) \t\n",
    "'+' \tPlus \t\n",
    "'P' \tPlus (filled) \t\n",
    "'s' \tSquare \t\n",
    "'D' \tDiamond \t\n",
    "'d' \tDiamond (thin) \t\n",
    "'p' \tPentagon \t\n",
    "'H' \tHexagon \t\n",
    "'h' \tHexagon \t\n",
    "'v' \tTriangle Down \t\n",
    "'^' \tTriangle Up \t\n",
    "'<' \tTriangle Left \t\n",
    "'>' \tTriangle Right \t\n",
    "'1' \tTri Down \t\n",
    "'2' \tTri Up \t\n",
    "'3' \tTri Left \t\n",
    "'4' \tTri Right \t\n",
    "'|' \tVline \t\n",
    "'_' \tHline"
   ]
  },
  {
   "cell_type": "markdown",
   "id": "51d72f63-fb56-463c-af67-e03fbe2b684b",
   "metadata": {},
   "source": [
    "Try playing with the data and markers to see how easily they can be changed."
   ]
  },
  {
   "cell_type": "code",
   "execution_count": null,
   "id": "e6fe1792-150e-4f93-a77a-1cbc9ea02ee4",
   "metadata": {},
   "outputs": [],
   "source": []
  },
  {
   "cell_type": "markdown",
   "id": "a0db2050-057e-4cef-9c2a-f7e7683037ae",
   "metadata": {},
   "source": [
    "The shortcut string notation parameter  (fmt) can also specify the colour, line and marker in the following order: \n",
    "\n",
    "**marker|line|color**"
   ]
  },
  {
   "cell_type": "code",
   "execution_count": null,
   "id": "a2aed962-dd64-47b3-8068-a1fa1d55799f",
   "metadata": {},
   "outputs": [],
   "source": [
    "x_points = [1,2,3,4,5,6]\n",
    "y_points = [1,2,3,4,5,6]\n",
    "plt.plot(x_points,y_points, 'o:r')"
   ]
  },
  {
   "cell_type": "markdown",
   "id": "16055da8-a7ab-4569-8271-1718f617cefe",
   "metadata": {},
   "source": [
    "Where the lines are referenced as:\n",
    "\n",
    "'-' \tSolid line \t\n",
    "':' \tDotted line \t\n",
    "'--' \tDashed line \t\n",
    "'-.' \tDashed/dotted line\n",
    "\n",
    "And the colours are:\n",
    "\n",
    "'r' \tRed \t\n",
    "'g' \tGreen \t\n",
    "'b' \tBlue \t\n",
    "'c' \tCyan \t\n",
    "'m' \tMagenta \t\n",
    "'y' \tYellow \t\n",
    "'k' \tBlack \t\n",
    "'w' \tWhite  \n",
    "Note there are 140 named colours, also available by hexcode (https://www.w3schools.com/colors/colors_hex.asp)\n",
    "\n",
    "Try redoing the code above with different line/marker/colour choices."
   ]
  },
  {
   "cell_type": "code",
   "execution_count": null,
   "id": "316dfcde-e632-4336-9cc1-f9c36272b61f",
   "metadata": {},
   "outputs": [],
   "source": []
  },
  {
   "cell_type": "markdown",
   "id": "2a01e217-fc38-43ed-abba-a48371b75b3c",
   "metadata": {},
   "source": [
    "Other keyword arguments include markersize (or ms), markeredgecolor (mec), markerfacecolor (mfc), linestyle (ls), linewidth (lw). Play around with this to produce some suitable visualisations."
   ]
  },
  {
   "cell_type": "code",
   "execution_count": null,
   "id": "3d2720b9-3887-4985-909a-6af8730e6b85",
   "metadata": {},
   "outputs": [],
   "source": []
  },
  {
   "cell_type": "markdown",
   "id": "8353c2e9-a393-49a5-a19d-b2d43766df13",
   "metadata": {
    "tags": []
   },
   "source": [
    "# Multiple data visualisations\n"
   ]
  },
  {
   "cell_type": "markdown",
   "id": "3012b9f3-89ac-4783-a4fe-4e4fcbfb5384",
   "metadata": {},
   "source": [
    "Add another series of data easily with pyplot (remember it is stateful, so remembers which plot you're working on)."
   ]
  },
  {
   "cell_type": "code",
   "execution_count": null,
   "id": "8bfbac23-f18b-4ba6-85e6-2f2c51cc8082",
   "metadata": {},
   "outputs": [],
   "source": [
    "# series 1\n",
    "x1_points = [1,2,3,4,5,6]\n",
    "y1_points = [1,2,3,4,5,6]\n",
    "\n",
    "# series 2\n",
    "x2_points = [1,2,3,4,5,6]\n",
    "y2_points = [6,5,4,3,2,1]\n",
    "\n",
    "# plot each\n",
    "plt.plot(x1_points,y1_points)\n",
    "plt.plot(x2_points,y2_points)\n"
   ]
  },
  {
   "cell_type": "markdown",
   "id": "4034cd98-c73e-4451-9494-19fa8ab65f52",
   "metadata": {},
   "source": [
    "Pyplot will take care of the formatting in a default style, or you can edit the style in your own way using the information above.  Have a go!"
   ]
  },
  {
   "cell_type": "code",
   "execution_count": null,
   "id": "bd15ebfe-70b5-44c2-8941-bbd2a87958c9",
   "metadata": {},
   "outputs": [],
   "source": [
    "# An example to get you started\n",
    "# series 1\n",
    "x1_points = [1,2,3,4,5,6]\n",
    "y1_points = [1,2,3,4,5,6]\n",
    "\n",
    "# series 2\n",
    "x2_points = [1,2,3,4,5,6]\n",
    "y2_points = [6,5,4,3,2,1]\n",
    "\n",
    "# plot each\n",
    "plt.plot(x1_points,y1_points, 'r:o')\n",
    "plt.plot(x2_points,y2_points, 'b:x')"
   ]
  },
  {
   "cell_type": "markdown",
   "id": "5f9abefd-0a8b-4f00-8add-10d570617769",
   "metadata": {},
   "source": [
    "# Artists  \n",
    "Remember 'Artists' are the individual bits that make up the detail of a graph.  These can be added to the Figure/Axes using simple plt.xxx() calls.  \n",
    "## Titles  \n",
    "plt.title(\"Plot title\")  \n",
    "plt.xlabel(\"Title of the x axis\")  \n",
    "plt.ylabel(\"Title of the y axis\")  \n",
    "  \n",
    "The following arguments are available for matplotlib.pyplot.title(label, fontdict=None, loc=None, pad=None, *, y=None, \\**kwargs)\n",
    "Where:  \n",
    "**labelstr** = Text to use for the title  \n",
    "**fontdict** = A dictionary controlling the appearance of the title text, e.g. \n",
    "\n",
    "font = {'family':'serif','color':'red','size':18}  \n",
    "plt.title(\"The title\", fontdict = font)  \n",
    "\n",
    "**loc** = Location of the title. Values are 'center', 'left', 'right'. (default: 'center')  \n",
    "**pad** = The offset of the title from the top of the Axes, in points.  \n"
   ]
  },
  {
   "cell_type": "code",
   "execution_count": null,
   "id": "8afcab36-ca22-46aa-abc0-9c83c24db50c",
   "metadata": {},
   "outputs": [],
   "source": [
    "# An example to get you started\n",
    "# series 1\n",
    "x1_points = [1,2,3,4,5,6]\n",
    "y1_points = [1,2,3,4,5,6]\n",
    "\n",
    "# series 2\n",
    "x2_points = [1,2,3,4,5,6]\n",
    "y2_points = [6,5,4,3,2,1]\n",
    "\n",
    "# plot each\n",
    "plt.plot(x1_points,y1_points, 'r:o')\n",
    "plt.plot(x2_points,y2_points, 'b:x')\n",
    "\n",
    "#titles\n",
    "title_font = {'family':'serif','color':'black','size':22}\n",
    "x_font = {'family':'sans','color':'blue','size':12}\n",
    "y_font = {'family':'sans','color':'red','size':12}\n",
    "plt.title(\"My first graph\", fontdict = title_font, loc='center', pad=30)\n",
    "plt.xlabel(\"The X-Axis\", fontdict = x_font)\n",
    "plt.ylabel(\"The Y-Axis\", fontdict = y_font)\n"
   ]
  },
  {
   "cell_type": "markdown",
   "id": "b98003c8-7e92-43ee-9cd6-fea39616c4d2",
   "metadata": {},
   "source": [
    "## Grid lines  \n",
    "Pyplot has the grid() function to add gridlines to the plot.  This can be modified with:  \n",
    "\n",
    "plt.grid(axis = 'x') : only vertical gridlines\n",
    "plt.grid(axis = 'y') : only horizontal gridlines  \n",
    "plt.grid(axis = 'both') : (default) both verical and horizontal  \n",
    "\n",
    "The colour, style and width of the gridlines can be modified with:  \n",
    "plt.grid(color = 'grey', linestyle = '--', linewidth = 0.2)  \n"
   ]
  },
  {
   "cell_type": "code",
   "execution_count": null,
   "id": "14e7d7ec-a32b-4a44-88b0-9856ab4f2464",
   "metadata": {},
   "outputs": [],
   "source": [
    "# An example to get you started\n",
    "# series 1\n",
    "x1_points = [1,2,3,4,5,6]\n",
    "y1_points = [1,2,3,4,5,6]\n",
    "\n",
    "# series 2\n",
    "x2_points = [1,2,3,4,5,6]\n",
    "y2_points = [6,5,4,3,2,1]\n",
    "\n",
    "# plot each\n",
    "plt.plot(x1_points,y1_points, 'r:o')\n",
    "plt.plot(x2_points,y2_points, 'b:x')\n",
    "\n",
    "#titles\n",
    "title_font = {'family':'serif','color':'black','size':22}\n",
    "x_font = {'family':'sans','color':'blue','size':12}\n",
    "y_font = {'family':'sans','color':'red','size':12}\n",
    "plt.title(\"My first graph\", fontdict = title_font, loc='center', pad=30)\n",
    "plt.xlabel(\"The X-Axis\", fontdict = x_font)\n",
    "plt.ylabel(\"The Y-Axis\", fontdict = y_font)\n",
    "plt.grid(axis = 'both', color = 'green', linestyle = '--', linewidth = 0.25)"
   ]
  },
  {
   "cell_type": "markdown",
   "id": "bedb1d82-58a3-458d-850b-8a2c70ec1a86",
   "metadata": {},
   "source": [
    "## Display multiple plots in one figure  \n",
    "The `plt.subplot()` command allows multiple plots within one figure 'canvas'.  \n",
    "It takes 3 arguments to lay out the plots within the figure area:  \n",
    "```python\n",
    "plt.subplot(rows, columns, which_plot_this_is)\n",
    "```"
   ]
  },
  {
   "cell_type": "code",
   "execution_count": null,
   "id": "c169d54d-6190-47ec-a5a7-5cfda1d6e8b6",
   "metadata": {},
   "outputs": [],
   "source": [
    "# An example to get you started\n",
    "\n",
    "# plot 1\n",
    "x1_points = [1,2,3,4,5,6]\n",
    "y1_points = [1,2,3,4,5,6]\n",
    "\n",
    "plt.subplot(1,2,1) #  one row, two columns and this is plot 1\n",
    "plt.plot(x1_points,y1_points, 'r:o')\n",
    "\n",
    "\n",
    "# plot 2\n",
    "x2_points = [1,2,3,4,5,6]\n",
    "y2_points = [6,5,4,3,2,1]\n",
    "plt.subplot(1,2,2) #  one row, two columns and this is plot 2\n",
    "plt.plot(x2_points,y2_points, 'b:x')\n",
    "\n",
    "#titles\n",
    "title_font = {'family':'serif','color':'black','size':22}\n",
    "x_font = {'family':'sans','color':'blue','size':12}\n",
    "y_font = {'family':'sans','color':'red','size':12}\n",
    "plt.title(\"My first graph\", fontdict = title_font, loc='center', pad=30)\n",
    "plt.xlabel(\"The X-Axis\", fontdict = x_font)\n",
    "plt.ylabel(\"The Y-Axis\", fontdict = y_font)\n",
    "plt.grid(axis = 'both', color = 'green', linestyle = '--', linewidth = 0.25)"
   ]
  },
  {
   "cell_type": "markdown",
   "id": "bdad9e2e-5f53-4e44-8688-5486f038d9d0",
   "metadata": {},
   "source": [
    "Note how the section from #titles in the code only applies to the second plot- remember pyplot is stateful and remembers which plot you're working on.  To edit this and apply these titles to each plot, add the title code to each plot.  A 'super title can then be added to the whole figure using ```plt.superplot()```. Try it below:"
   ]
  },
  {
   "cell_type": "code",
   "execution_count": null,
   "id": "eb007308-0ef3-4ad6-b1ae-d8ce4ddd850b",
   "metadata": {},
   "outputs": [],
   "source": []
  },
  {
   "cell_type": "markdown",
   "id": "29f0421d-2ec7-40d4-8bcf-5a1a5c137dde",
   "metadata": {
    "tags": []
   },
   "source": [
    "## Loading data and visualising it  \n",
    "\n",
    "We can load data using other methods, e.g. Pandas, and visualise it as above with few lines of code.  Note the dataframe itself (df) has the method .plot() called."
   ]
  },
  {
   "cell_type": "code",
   "execution_count": 11,
   "id": "7e75aed9-b7f5-4535-96ac-065683e543cb",
   "metadata": {},
   "outputs": [
    {
     "name": "stdout",
     "output_type": "stream",
     "text": [
      "      part_num                                               name  part_cat_id\n",
      "0       0687b1                        Set 0687 Activity Booklet 1           17\n",
      "1         0901  Baseplate 16 x 30 with Set 080 Yellow House Print            1\n",
      "2         0902  Baseplate 16 x 24 with Set 080 Small White Hou...            1\n",
      "3         0903     Baseplate 16 x 24 with Set 080 Red House Print            1\n",
      "4         0904  Baseplate 16 x 24 with Set 080 Large White Hou...            1\n",
      "...        ...                                                ...          ...\n",
      "25988   zbb013              Znap Connector 3 x 3 - 4 way B (Beam)           43\n",
      "25989   zbb014                     Znap Connector 1 x 3 - 2 way A           43\n",
      "25990   zbb015                                Znap Beam 3, 1 Hole           43\n",
      "25991   zbb018            Znap Connector 3 x 3 - 4 way C (Closed)           43\n",
      "25992   zbb022                  Wheel 68mm Znap Propeller (9 x 2)           29\n",
      "\n",
      "[25993 rows x 3 columns]\n"
     ]
    },
    {
     "data": {
      "image/png": "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\n",
      "text/plain": [
       "<Figure size 432x288 with 1 Axes>"
      ]
     },
     "metadata": {
      "needs_background": "light"
     },
     "output_type": "display_data"
    }
   ],
   "source": [
    "import pandas as pd\n",
    "import matplotlib.pyplot as plt\n",
    "\n",
    "# Note the use of sep to state that the records are separated by \";\" rather than default \",\"\n",
    "df = pd.read_csv('data/lego_data/parts.csv')\n",
    "df.plot(kind = 'hist') # set type to histogram\n",
    "\n",
    "# set titles\n",
    "plt.title(\"Frequency of lego parts\")\n",
    "plt.xlabel(\"Part cat id.\")\n",
    "print(df)"
    "#plt.savefig("fig1.pdf", type="pdf")"
   ]
  },
  {
   "cell_type": "markdown",
   "id": "6c505753-8f47-4833-90af-3421b8c8bacb",
   "metadata": {},
   "source": [
    "# Other plot types  \n",
    "\n",
    "Pyplot has a rich library of plot types inbuilt, all using the same principles above.  Using the [Matplotlib cheatsheet](handouts/matplotlib/cheatsheets.pdf), [Matplotlib handout-beginner](handouts/matplotlib/handout-beginner.pdf),  [Matplotlib handout-intermediate](handouts/matplotlib/handout-intermediate.pdf),  [Matplotlib handout-tips](handouts/matplotlib/handout-tips.pdf) have a play about with different plot types below."
   ]
  },
  {
   "cell_type": "code",
   "execution_count": null,
   "id": "10c574db-c686-4631-8a77-44eda30ed82e",
   "metadata": {},
   "outputs": [],
   "source": []
  }
 ],
 "metadata": {
  "kernelspec": {
   "display_name": "Python 3",
   "language": "python",
   "name": "python3"
  },
  "language_info": {
   "codemirror_mode": {
    "name": "ipython",
    "version": 3
   },
   "file_extension": ".py",
   "mimetype": "text/x-python",
   "name": "python",
   "nbconvert_exporter": "python",
   "pygments_lexer": "ipython3",
   "version": "3.6.9"
  }
 },
 "nbformat": 4,
 "nbformat_minor": 5
}
