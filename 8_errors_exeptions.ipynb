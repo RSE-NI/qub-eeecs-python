{
 "cells": [
  {
   "cell_type": "markdown",
   "id": "6d21d40b",
   "metadata": {},
   "source": [
    "# Error Messages"
   ]
  },
  {
   "cell_type": "markdown",
   "id": "518b600b",
   "metadata": {},
   "source": [
    "## Syntax errors\n",
    "\n",
    "A syntax error is a problem with the 'grammar' of our program. For instance, \n",
    "\n",
    "* using punctation (brackets, quotes) incorrectly\n",
    "* using whitespace incorrectly (sometimes IndentError)"
   ]
  },
  {
   "cell_type": "code",
   "execution_count": null,
   "id": "536c4079",
   "metadata": {
    "scrolled": true
   },
   "outputs": [],
   "source": []
  },
  {
   "cell_type": "markdown",
   "id": "e76a1ebc",
   "metadata": {},
   "source": [
    "## Tracebacks\n",
    "\n",
    "Python will print a trace which presents all the layers of code through which it has traversed. This can appear confusing, but usually the bottommost error is where things actually broke. We get the rest of the information as often when a piece of code breaks it's because a function has been called with a bad parameter."
   ]
  },
  {
   "cell_type": "code",
   "execution_count": null,
   "id": "e261ef10",
   "metadata": {},
   "outputs": [],
   "source": [
    "def print_message(day):\n",
    "    messages = [\n",
    "        'Hello, world!',\n",
    "        'Today is Tuesday!',\n",
    "        'It is the middle of the week.',\n",
    "        'Today is Donnerstag in German!',\n",
    "        'Last day of the week!',\n",
    "        'Hooray for the weekend!',\n",
    "        'Aw, the weekend is almost over.'\n",
    "    ]\n",
    "    print(messages[day])\n",
    "\n",
    "def print_sunday_message():\n",
    "    print_message(7)\n",
    "\n",
    "print_sunday_message()"
   ]
  },
  {
   "cell_type": "markdown",
   "id": "769cd76a",
   "metadata": {},
   "source": [
    "## NameError \n",
    "\n",
    "Name Errors occur when you use a name that python doesn't recognise. E.G you try to use a variable that hasn't been defined, or you mistype the name of a built in function. "
   ]
  },
  {
   "cell_type": "code",
   "execution_count": null,
   "id": "4e490359",
   "metadata": {},
   "outputs": [],
   "source": []
  },
  {
   "cell_type": "markdown",
   "id": "c729bccd",
   "metadata": {},
   "source": [
    "## IndexError\n",
    "\n",
    "Index Errors occur when you attempt to access an element of a container (List, dictionary, Numpy Array, etc.) which does not exist. E.G if you have a list with three elements, and you try to access the fourth. This happens a lot because zero-indexing is confusing!"
   ]
  },
  {
   "cell_type": "code",
   "execution_count": null,
   "id": "18595af2",
   "metadata": {},
   "outputs": [],
   "source": []
  },
  {
   "cell_type": "markdown",
   "id": "dc0b81a4",
   "metadata": {},
   "source": [
    "## FileNotFoundError\n",
    "\n",
    "If you try to access a file that does not exist, you will get a `FileNotFoundError`. "
   ]
  },
  {
   "cell_type": "code",
   "execution_count": null,
   "id": "258e7493",
   "metadata": {},
   "outputs": [],
   "source": []
  },
  {
   "cell_type": "markdown",
   "id": "15786daa",
   "metadata": {},
   "source": [
    "---"
   ]
  },
  {
   "cell_type": "markdown",
   "id": "0128e43d",
   "metadata": {},
   "source": [
    "## Defensive programming\n",
    "\n",
    "### Assertions\n",
    "\n",
    "In python, the assert keyword will cause a program to fail, unless the given condition is met. E.G "
   ]
  },
  {
   "cell_type": "code",
   "execution_count": 1,
   "id": "f73107dd",
   "metadata": {},
   "outputs": [],
   "source": []
  },
  {
   "cell_type": "markdown",
   "id": "47545061",
   "metadata": {},
   "source": [
    "Assertions are commonly used to cause programs to fail fast. This might sound strange, but if something is going to go wrong, we want it to happen quickly, and in a predictable way, so that we can fix the problem. If a problem propagates into a longer piece of code, it might cause unexpected behaviour, and take a long time to fail. \n",
    "\n",
    "There are three main ways that assertions are used.\n",
    "\n",
    "1. Pre-conditions - must be true at the start of a function in order for it to work\n",
    "2. Post-conditions - if the function has worked correctly, this must be true\n",
    "3. Invariants - something that is always true at a given point in the code\n",
    "\n",
    "E.G Let's imagine we are writing a function to compute the square of a number. A pre-condition would be the input argument is a number (not a string, or a list), and a postcondition would be that the resulting squared number is positive. We can make the assertions like this"
   ]
  },
  {
   "cell_type": "code",
   "execution_count": 25,
   "id": "2d8eb310",
   "metadata": {},
   "outputs": [],
   "source": [
    "def square(x):\n",
    "    \"\"\"given a real number (integer or float), square it and return the result\"\"\"\n",
    "    return \n"
   ]
  },
  {
   "cell_type": "markdown",
   "id": "ec837f62",
   "metadata": {},
   "source": [
    "### Testing\n",
    "\n",
    "Writing tests for your code might seem redundant, or unnecessary (especially looking at the simple examples we've encountered so far), but as your codebase grows, a good suite of tests is absolutely crucial for ensuring code quality. This follows from the fail-fast principle, you want to catch errors as soon as you've introduced them.\n",
    "\n",
    "Writing tests can be as simple as including several assertions for known input and outputs. Let's test a function that calculates the common range (overlap) of two ranges"
   ]
  },
  {
   "cell_type": "code",
   "execution_count": 26,
   "id": "786888fb",
   "metadata": {},
   "outputs": [],
   "source": [
    "def range_overlap(ranges):\n",
    "    \"\"\"Return common overlap among a set of [left, right] ranges.\"\"\"\n",
    "    max_left = 0.0\n",
    "    min_right = 1.0\n",
    "    for (left, right) in ranges:\n",
    "        max_left = max(max_left, left)\n",
    "        min_right = min(min_right, right)\n",
    "    return (max_left, min_right)"
   ]
  },
  {
   "cell_type": "markdown",
   "id": "024bf4ae",
   "metadata": {},
   "source": [
    "Now what we do is imagine some easy cases, and ensure that the function does what we expect it to:"
   ]
  },
  {
   "cell_type": "code",
   "execution_count": null,
   "id": "a0c79173",
   "metadata": {},
   "outputs": [],
   "source": []
  },
  {
   "cell_type": "markdown",
   "id": "b8df908a",
   "metadata": {},
   "source": [
    "## Error Handling\n",
    "\n",
    "Python provides a construct which allows for handling code failures. The `try/except` construct is used as follows"
   ]
  },
  {
   "cell_type": "code",
   "execution_count": null,
   "id": "f01c4961",
   "metadata": {},
   "outputs": [],
   "source": []
  }
 ],
 "metadata": {
  "kernelspec": {
   "display_name": "Python 3 (ipykernel)",
   "language": "python",
   "name": "python3"
  },
  "language_info": {
   "codemirror_mode": {
    "name": "ipython",
    "version": 3
   },
   "file_extension": ".py",
   "mimetype": "text/x-python",
   "name": "python",
   "nbconvert_exporter": "python",
   "pygments_lexer": "ipython3",
   "version": "3.9.13"
  }
 },
 "nbformat": 4,
 "nbformat_minor": 5
}
