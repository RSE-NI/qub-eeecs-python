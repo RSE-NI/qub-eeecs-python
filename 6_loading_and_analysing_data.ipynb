{
 "cells": [
  {
   "cell_type": "markdown",
   "id": "960c88e6-1961-411f-9e68-ec574f092885",
   "metadata": {},
   "source": [
    "# Loading data into Python  \n",
    "\n"
   ]
  },
  {
   "cell_type": "markdown",
   "id": "9908725a-0339-4209-b1e4-43c9a835a511",
   "metadata": {},
   "source": [
    "Firstly, let's load a simple text file (\"data/text_data/zen.txt\")"
   ]
  },
  {
   "cell_type": "code",
   "execution_count": null,
   "id": "aa542676-cf7e-4172-a7fe-9e35c561edf1",
   "metadata": {},
   "outputs": [],
   "source": [
    "with open(\"data/text_data/zen.txt\", \"r\") as zen:\n",
    "    print(zen)"
   ]
  },
  {
   "cell_type": "markdown",
   "id": "4feae321-b62a-4ef2-b695-67a4db1083d4",
   "metadata": {},
   "source": [
    "What is happening here? What is this gibberish?  Why is it not printing a nice bit of text?"
   ]
  },
  {
   "cell_type": "markdown",
   "id": "bfb3e845-3ef3-49d4-9940-30f0fa2169db",
   "metadata": {},
   "source": [
    "Let's fix it using some inbuilt functions."
   ]
  },
  {
   "cell_type": "code",
   "execution_count": null,
   "id": "3b8958fc-d980-464f-a0dc-bef059fbfc18",
   "metadata": {
    "scrolled": true
   },
   "outputs": [],
   "source": [
    "with open(\"data/text_data/zen.txt\", \"r\") as zen:\n",
    "    lines = zen.read()\n",
    "    for line in lines:\n",
    "        print(line) "
   ]
  },
  {
   "cell_type": "markdown",
   "id": "65cb6e5b-c412-40ac-a39b-3e62ce561813",
   "metadata": {},
   "source": [
    "What is that all about? Remember what read() will return. How do we fix it?  "
   ]
  },
  {
   "cell_type": "markdown",
   "id": "057c5a84-df7a-4718-800a-6db5b922ef83",
   "metadata": {},
   "source": [
    "Now try the same thing, but using the readline() function."
   ]
  },
  {
   "cell_type": "code",
   "execution_count": null,
   "id": "4216b08f-0f18-4965-b9b0-a2be32be780c",
   "metadata": {},
   "outputs": [],
   "source": [
    "with open(\"data/text_data/zen.txt\", \"r\") as zen:\n",
    "    line = zen.readline()\n",
    "    while line:\n",
    "        print(line)\n",
    "        line = zen.readline()"
   ]
  },
  {
   "cell_type": "markdown",
   "id": "7e4df927-194c-40fb-826a-8a36d0bc8ca8",
   "metadata": {},
   "source": [
    "Now using the readlines() function, things are a bit more simple."
   ]
  },
  {
   "cell_type": "code",
   "execution_count": null,
   "id": "a765a341-09db-465b-a44f-dcbee0fd8195",
   "metadata": {},
   "outputs": [],
   "source": [
    "with open(\"data/text_data/zen.txt\", \"r\") as zen:\n",
    "    lines = zen.readlines()\n",
    "    print(lines)"
   ]
  },
  {
   "cell_type": "markdown",
   "id": "591af044-eed2-47f6-9664-a876053b6827",
   "metadata": {},
   "source": [
    "#### Over to you\n",
    "\n",
    "Try the following using readlines() with the zen file  \n",
    " - print the 4th line (remember python is zero-indexed)  \n",
    " - print the 8th line  \n",
    " - print the 1st and 11th lines"
   ]
  },
  {
   "cell_type": "code",
   "execution_count": null,
   "id": "b540d832-6f57-4379-9c51-3f6dc61d5b11",
   "metadata": {},
   "outputs": [],
   "source": []
  },
  {
   "cell_type": "code",
   "execution_count": null,
   "id": "78224195-27cd-48b1-ae78-503758a0b9a9",
   "metadata": {},
   "outputs": [],
   "source": []
  },
  {
   "cell_type": "code",
   "execution_count": null,
   "id": "c0d277e1-1f70-48c5-a898-8bdf0b1d6f1a",
   "metadata": {},
   "outputs": [],
   "source": []
  },
  {
   "cell_type": "markdown",
   "id": "26e49eaf-3213-4c54-8fcf-996f4751247f",
   "metadata": {},
   "source": [
    "## Working with CSV data in Pandas\n",
    "\n",
    "This workbook uses the 2018 Central Park Squirrel Census dataset (this is a real thing).  Go to https://data.cityofnewyork.us/Environment/2018-Central-Park-Squirrel-Census-Squirrel-Data/vfnx-vebw to see the details.\n",
    "\n",
    "- First, import pandas using `import pandas as pd`.  \n",
    "- Then create a variable to store the results (normally df) of the pd.read_csv() function.  The path to the datafile is \"data/squirrel_data/2018_Central_Park_Squirrel_Census_-_Squirrel_Data.csv\".\n",
    "- Print the data. Something will not seem right!"
   ]
  },
  {
   "cell_type": "code",
   "execution_count": null,
   "id": "2409031d-33d9-4532-8ebe-712608d2a818",
   "metadata": {},
   "outputs": [],
   "source": [
    "import pandas as pd\n",
    "\n",
    "df = pd.read_csv(\"data/squirrel_data/2018_Central_Park_Squirrel_Census_-_Squirrel_Data.csv\")\n",
    "print(df)"
   ]
  },
  {
   "cell_type": "markdown",
   "id": "bcb9310b-70e2-4517-98a1-55b746168315",
   "metadata": {
    "tags": []
   },
   "source": [
    "### Solution"
   ]
  },
  {
   "cell_type": "code",
   "execution_count": null,
   "id": "5548df73-6872-4e57-be27-2a1c996d3484",
   "metadata": {
    "tags": []
   },
   "outputs": [],
   "source": [
    "import pandas as pd\n",
    "\n",
    "#This includes an error\n",
    "df = pd.read_csv(\"data/squirrel_data/2018_Central_Park_Squirrel_Census_-_Squirrel_Data.csv\")\n",
    "print(df)"
   ]
  },
  {
   "cell_type": "markdown",
   "id": "93c11b77-ea9b-4a5b-bd65-55a26a546631",
   "metadata": {},
   "source": [
    "Our error `ParserError: Error tokenizing data. C error: Expected 1 fields in line 17, saw 3` is quite common.  It shows there is something different about this data set that the defaults in pandas are having trouble with.  Normally this error means the character separating the fields isn't the default (a comma), so it is having difficulty separating out the records.  \n",
    "\n",
    "Fix the error:\n",
    "- Open the CSV file in a text editor or by using terminal `cat data/squirrel_data/2018_Central_Park_Squirrel_Census_-_Squirrel_Data.csv` to find out what the record seperating char is.\n",
    "- Fix this by including an explicit sep='' statement to override the default in the read_csv function `read_csv(filepath, sep='')."
   ]
  },
  {
   "cell_type": "code",
   "execution_count": null,
   "id": "c8d8a489-1204-4dca-b207-69865832b0f9",
   "metadata": {},
   "outputs": [],
   "source": []
  },
  {
   "cell_type": "markdown",
   "id": "e2dec5e3-259a-41e6-9457-1c20818a6d8a",
   "metadata": {},
   "source": [
    "### Solution"
   ]
  },
  {
   "cell_type": "code",
   "execution_count": null,
   "id": "853588f1-ccd0-47fe-911d-f49eeee0ba7d",
   "metadata": {
    "tags": []
   },
   "outputs": [],
   "source": [
    "import pandas as pd\n",
    "\n",
    "df = pd.read_csv(\"data/squirrel_data/2018_Central_Park_Squirrel_Census_-_Squirrel_Data.csv\", sep=';')\n",
    "print(df)"
   ]
  },
  {
   "cell_type": "markdown",
   "id": "186a1bf9-4f1c-49a0-92cb-5b49a24c9105",
   "metadata": {},
   "source": [
    "Note that if the data is too wide, pandas will use \\ to indicate that it is breaking over a new line.  We can also use `index_col=''` to specify which column values are the row headings, rather than having the lines named 0,1,2,3...etc.\n",
    "\n",
    "## Assign a meaningful row heading\n",
    "- Repeat the code above and use 'Unique Squirrel ID' as the the index column"
   ]
  },
  {
   "cell_type": "code",
   "execution_count": null,
   "id": "cbf0b557-7c31-4fd8-b407-edce1cd16c3f",
   "metadata": {},
   "outputs": [],
   "source": []
  },
  {
   "cell_type": "markdown",
   "id": "e6626fe3-389e-4fcd-b5f8-2f039623ce93",
   "metadata": {},
   "source": [
    "### Solution"
   ]
  },
  {
   "cell_type": "code",
   "execution_count": null,
   "id": "7c0b44ca-f94d-4cb4-92d9-8582d7d8f4b3",
   "metadata": {
    "tags": []
   },
   "outputs": [],
   "source": [
    "import pandas as pd\n",
    "\n",
    "df = pd.read_csv(\"data/squirrel_data/2018_Central_Park_Squirrel_Census_-_Squirrel_Data.csv\", sep=';', index_col='Unique Squirrel ID')\n",
    "print(df)"
   ]
  },
  {
   "cell_type": "markdown",
   "id": "8f2ddd78-b95f-4e49-85e7-6fc866f43116",
   "metadata": {},
   "source": [
    "## More descriptive info\n",
    "\n",
    "There are several functions and member variables that can provide more information about the dataset being used.\n",
    "Try the following (remember to use the variable you've stored the dataframe in):\n",
    "- DataFrame.info()\n",
    "- DataFrame.describe()\n",
    "- DataFrame.columns  (*remember this isn't a function as it doesn't have brackets after.  It is a member variable*)\n",
    "- DataFrame.T\n",
    "- DataFrame.head\n",
    "- DataFrame.tail"
   ]
  },
  {
   "cell_type": "code",
   "execution_count": null,
   "id": "f98a3ef9-6dc6-4350-aead-d1937902f794",
   "metadata": {},
   "outputs": [],
   "source": [
    "import pandas as pd\n",
    "\n",
    "df = pd.read_csv(\"data/squirrel_data/2018_Central_Park_Squirrel_Census_-_Squirrel_Data.csv\", sep=';', index_col='Unique Squirrel ID')\n",
    "\n",
    "print(\"DataFrame.info()\")\n",
    "# insert DataFrame.info() code\n",
    "\n",
    "print(\"DataFrame.describe()\")\n",
    "# insert code\n",
    "\n",
    "print(\"DataFrame.columns (remember this isn't a function as it doesn't have brackets after. It is a member variable)\")\n",
    "# insert code\n",
    "\n",
    "print(\"DataFrame.T\")\n",
    "# insert code\n",
    "\n",
    "print(\"DataFrame.head\")\n",
    "# insert code\n",
    "\n",
    "print(\"DataFrame.tail\")\n",
    "# insert code"
   ]
  },
  {
   "cell_type": "markdown",
   "id": "6145aba9-3d76-4c67-8c06-cf66825867cd",
   "metadata": {},
   "source": [
    "## Selecting values\n",
    "\n",
    "To access a specific item from a DataFrame at position [i,j] we can use two strategies:\n",
    "\n",
    "#### using the position\n",
    "Specifying the location by numerical index e.g. `print(df.iloc[0, 0])`.\n",
    "\n",
    "[0,0] [0,1] [0,2] [0,3]  \n",
    "[1,0] [1,1] [1,2] [1,3]  \n",
    "\n",
    "\n",
    "#### using the label\n",
    "Specifying the location by the label e.g. `print(df.loc[INDEX_COL_VALUE, COLUMN])  `\n",
    "\n",
    "Run the cell below to see examples from the Squirrel data."
   ]
  },
  {
   "cell_type": "code",
   "execution_count": null,
   "id": "4cf527b9-c55b-4c73-883a-dfe279b3bdbd",
   "metadata": {},
   "outputs": [],
   "source": [
    "import pandas as pd\n",
    "\n",
    "df = pd.read_csv(\"data/squirrel_data/2018_Central_Park_Squirrel_Census_-_Squirrel_Data.csv\", sep=';', index_col='Unique Squirrel ID')\n",
    "print(df.iloc[0,1])\n",
    "print(df.iloc[1,1])\n",
    "print(df.loc[\"11H-AM-1010-03\", \"Primary Fur Color\"])"
   ]
  },
  {
   "cell_type": "markdown",
   "id": "21c2d86a-ad39-4868-be6f-781722cc72cc",
   "metadata": {},
   "source": [
    "#### Some other exercises:\n",
    "\n",
    "- find the Age of squirrel 32E-PM-1017-14\n",
    "- find the Primary Fur Color of 11H-AM-1010-03\n",
    "- find the Lat/Long of 36H-AM-1010-02\n",
    "\n",
    "\n",
    "### Solution"
   ]
  },
  {
   "cell_type": "code",
   "execution_count": null,
   "id": "4989aeef-98c6-4077-ab76-aaad9a3cb0a5",
   "metadata": {
    "tags": []
   },
   "outputs": [],
   "source": [
    "import pandas as pd\n",
    "\n",
    "df = pd.read_csv(\"data/squirrel_data/2018_Central_Park_Squirrel_Census_-_Squirrel_Data.csv\", sep=';', index_col='Unique Squirrel ID')\n",
    "\n",
    "print(df.loc[\"32E-PM-1017-14\", \"Age\"])\n",
    "print(df.loc[\"11H-AM-1010-03\", \"Primary Fur Color\"])\n",
    "print(df.loc[\"36H-AM-1010-02\", \"Lat/Long\"])"
   ]
  },
  {
   "cell_type": "markdown",
   "id": "1ed6c4dd-4def-4de7-a79a-d4291fe73dd2",
   "metadata": {},
   "source": [
    "### Select all rows or columns with slices\n",
    "\n",
    "You can use : on its own to mean all columns or all rows. Slicing using loc is inclusive at both ends, which differs from slicing using iloc, where slicing indicates everything up to but not including the final index.\n"
   ]
  },
  {
   "cell_type": "code",
   "execution_count": null,
   "id": "4665d3ff-e98e-4d1e-a231-2283b308b391",
   "metadata": {},
   "outputs": [],
   "source": [
    "import pandas as pd\n",
    "\n",
    "df = pd.read_csv(\"data/squirrel_data/2018_Central_Park_Squirrel_Census_-_Squirrel_Data.csv\", sep=';', index_col='Unique Squirrel ID')\n",
    "\n",
    "# print all columns for row indexed with 11H-AM-1010-0\n",
    "print(\"\\n\\n all columns for row indexed with 11H-AM-1010-0\\n\\n\")\n",
    "print(df.loc[\"11H-AM-1010-03\", :])\n",
    "\n",
    "# print all rows for Primary Fur Color\n",
    "print(\"\\n\\nall rows for Primary Fur Color\\n\\n\")\n",
    "print(df.loc[:, \"Primary Fur Color\"])"
   ]
  },
  {
   "cell_type": "markdown",
   "id": "c44cc078-30cb-49b4-8d04-b18f9be2e09a",
   "metadata": {},
   "source": [
    "### Select multiple rows or columns with a named slice\n"
   ]
  },
  {
   "cell_type": "markdown",
   "id": "4026d0d1-c426-4f54-834f-8b63abc92fc3",
   "metadata": {},
   "source": [
    "This allows regions of the tabular data to be viewed."
   ]
  },
  {
   "cell_type": "code",
   "execution_count": null,
   "id": "6fbc5355-1e66-4234-b321-a560fe5d1b7a",
   "metadata": {},
   "outputs": [],
   "source": [
    "import pandas as pd\n",
    "\n",
    "df = pd.read_csv(\"data/squirrel_data/2018_Central_Park_Squirrel_Census_-_Squirrel_Data.csv\", sep=';', index_col='Unique Squirrel ID')\n",
    "\n",
    "# print all fur colour columns for row indexed with 11H-AM-1010-0\n",
    "print(\"\\n\\n fur color columns for row indexed with 11H-AM-1010-0\\n\\n\")\n",
    "print(df.loc[\"11H-AM-1010-03\", \"Primary Fur Color\":\"Color notes\"])\n",
    "\n",
    "# print all fur colour columns for rows indexed with 11H-AM-1010-0 to 21C-PM-1006-01\n",
    "print(\"\\n\\n fur color columns for row indexed with 11H-AM-1010-0\\n\\n\")\n",
    "print(df.loc[\"11H-AM-1010-03\":\"21C-PM-1006-01\", \"Primary Fur Color\":\"Color notes\"])"
   ]
  },
  {
   "cell_type": "markdown",
   "id": "f8e95cad-5f21-4e5c-a06e-dd7cc625f947",
   "metadata": {},
   "source": [
    "Note this subset can also be assigned to a variable e.g. `fur_colors = print(df.loc[\"11H-AM-1010-03\":\"21C-PM-1006-01\", \"Primary Fur Color\":\"Color notes\"])`\n",
    "\n"
   ]
  },
  {
   "cell_type": "markdown",
   "id": "f4cf07ab-ab87-43c7-9903-9046f5eac549",
   "metadata": {},
   "source": [
    "### Performing further operations on slices\n",
    "\n",
    "You can use the statistical operators that work on whole dataframes on slices.\n",
    "\n"
   ]
  },
  {
   "cell_type": "code",
   "execution_count": 19,
   "id": "d272e06a-33fa-40a3-acc2-87ec2e9a1586",
   "metadata": {},
   "outputs": [
    {
     "name": "stdout",
     "output_type": "stream",
     "text": [
      "3\n",
      "3\n"
     ]
    }
   ],
   "source": [
    "# full line\n",
    "print(df.loc[\"11H-AM-1010-03\":\"21C-PM-1006-01\", \"Hectare Squirrel Number\"].max())\n",
    "\n",
    "# assign subset to variable\n",
    "subset = df.loc[\"11H-AM-1010-03\":\"21C-PM-1006-01\", \"Hectare Squirrel Number\"]\n",
    "# call .max() on the variable\n",
    "print(subset.max())\n",
    "\n",
    "\n"
   ]
  },
  {
   "cell_type": "markdown",
   "id": "9d046d92-0d97-4d7a-abc6-5c73b3142e15",
   "metadata": {},
   "source": [
    "You can query for values over a threshold for a true/false response.  You can assign the subset query to a variable (called a mask)."
   ]
  },
  {
   "cell_type": "code",
   "execution_count": null,
   "id": "9b67d349-608b-4a62-b156-4fbd5b15189a",
   "metadata": {},
   "outputs": [],
   "source": [
    "subset = df.loc[\"11H-AM-1010-03\":\"21C-PM-1006-01\", \"Hectare Squirrel Number\"]\n",
    "\n",
    "# Do any hectares have more than one squirrel?\n",
    "print(\"Squirrels in hectares with more than one other squirrel sighting:\\n\", subset > 1)\n",
    "mask = subset > 1 #TODO: this is missing in past versions\n",
    "#print the value of the masked items\n",
    "print(\"\\n\\nSquirrels in hectares with more than one other squirrel sighting:\\n\", subset[mask])"
   ]
  },
  {
   "cell_type": "markdown",
   "id": "d2805974-d1c4-40d3-a9a6-d0266cd57807",
   "metadata": {},
   "source": [
    "You can also get some descriptive stats for the slice."
   ]
  },
  {
   "cell_type": "code",
   "execution_count": null,
   "id": "647a6611-f44e-4d85-a6d6-f2aa454c439b",
   "metadata": {},
   "outputs": [],
   "source": [
    "print(subset[mask].describe())"
   ]
  },
  {
   "cell_type": "markdown",
   "id": "72dfb8ef-3496-4bf6-9eb6-dc4a2b15b2fd",
   "metadata": {},
   "source": [
    "### Grouping\n",
    "It is possible to group records according to some aspect of the data.  Create a larger slice of records:"
   ]
  },
  {
   "cell_type": "code",
   "execution_count": null,
   "id": "024696d3-31f2-40c2-9744-86cd1620bdcb",
   "metadata": {},
   "outputs": [],
   "source": [
    "subset = df.loc[\"11H-AM-1010-03\":\"33F-AM-1008-01\", \"Hectare Squirrel Number\"]\n",
    "print(subset)"
   ]
  },
  {
   "cell_type": "markdown",
   "id": "c55fdb8b-c24b-4b34-9455-5f653c1da454",
   "metadata": {},
   "source": [
    "Now group the data into those above the mean."
   ]
  },
  {
   "cell_type": "code",
   "execution_count": null,
   "id": "32180bdf-2d7c-406a-8804-bfa70d4f8734",
   "metadata": {},
   "outputs": [],
   "source": [
    "#print the value of the masked items\n",
    "subset = df.loc[\"11H-AM-1010-03\":\"33F-AM-1008-01\", \"Hectare Squirrel Number\"]\n",
    "\n",
    "print(\"Mean:\", subset.mean())\n",
    "mask_above_mean = subset > subset.mean()\n",
    "print(\"\\n\\nNo. Squirrels in hectares with more than mean:\\n\", subset[mask_above_mean])"
   ]
  },
  {
   "cell_type": "markdown",
   "id": "bff7553e-0108-41ec-8db4-5d12947aed83",
   "metadata": {},
   "source": [
    "## Further exercises\n",
    "\n",
    "Load the various Lego data sets in to a DataFrame, and perform some of the above tasks on them"
   ]
  },
  {
   "cell_type": "code",
   "execution_count": null,
   "id": "492d54a8-040e-4889-bd79-a7bcca48f2bc",
   "metadata": {},
   "outputs": [],
   "source": []
  }
 ],
 "metadata": {
  "kernelspec": {
   "display_name": "Python 3 (ipykernel)",
   "language": "python",
   "name": "python3"
  },
  "language_info": {
   "codemirror_mode": {
    "name": "ipython",
    "version": 3
   },
   "file_extension": ".py",
   "mimetype": "text/x-python",
   "name": "python",
   "nbconvert_exporter": "python",
   "pygments_lexer": "ipython3",
   "version": "3.10.12"
  }
 },
 "nbformat": 4,
 "nbformat_minor": 5
}
